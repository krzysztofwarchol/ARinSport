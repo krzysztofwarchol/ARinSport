{
 "cells": [
  {
   "cell_type": "markdown",
   "metadata": {},
   "source": [
    "# 1. Import"
   ]
  },
  {
   "cell_type": "code",
   "execution_count": 14,
   "metadata": {},
   "outputs": [],
   "source": [
    "import pickle\n",
    "import pandas as pd\n",
    "from tqdm import tqdm\n",
    "import os\n",
    "import cv2\n",
    "import numpy as np\n",
    "import shutil"
   ]
  },
  {
   "cell_type": "code",
   "execution_count": 15,
   "metadata": {},
   "outputs": [
    {
     "data": {
      "text/html": [
       "<div>\n",
       "<style scoped>\n",
       "    .dataframe tbody tr th:only-of-type {\n",
       "        vertical-align: middle;\n",
       "    }\n",
       "\n",
       "    .dataframe tbody tr th {\n",
       "        vertical-align: top;\n",
       "    }\n",
       "\n",
       "    .dataframe thead th {\n",
       "        text-align: right;\n",
       "    }\n",
       "</style>\n",
       "<table border=\"1\" class=\"dataframe\">\n",
       "  <thead>\n",
       "    <tr style=\"text-align: right;\">\n",
       "      <th></th>\n",
       "      <th>video_name</th>\n",
       "      <th>action_idx</th>\n",
       "      <th>category</th>\n",
       "      <th>frames</th>\n",
       "      <th>resize</th>\n",
       "      <th>source_video</th>\n",
       "      <th>split</th>\n",
       "      <th>action</th>\n",
       "      <th>new_split</th>\n",
       "    </tr>\n",
       "  </thead>\n",
       "  <tbody>\n",
       "    <tr>\n",
       "      <th>0</th>\n",
       "      <td>01_0001_v_-hyYa8ijq-8_c001.mp4</td>\n",
       "      <td>1</td>\n",
       "      <td>aerobic_gymnastics</td>\n",
       "      <td>31</td>\n",
       "      <td>False</td>\n",
       "      <td>v_-hyYa8ijq-8_c001.mp4</td>\n",
       "      <td>train</td>\n",
       "      <td>explosive push up</td>\n",
       "      <td>train</td>\n",
       "    </tr>\n",
       "    <tr>\n",
       "      <th>1</th>\n",
       "      <td>01_0002_v_-hyYa8ijq-8_c001.mp4</td>\n",
       "      <td>1</td>\n",
       "      <td>aerobic_gymnastics</td>\n",
       "      <td>31</td>\n",
       "      <td>True</td>\n",
       "      <td>v_-hyYa8ijq-8_c001.mp4</td>\n",
       "      <td>train</td>\n",
       "      <td>explosive push up</td>\n",
       "      <td>train</td>\n",
       "    </tr>\n",
       "    <tr>\n",
       "      <th>2</th>\n",
       "      <td>01_0003_v_-hyYa8ijq-8_c001.mp4</td>\n",
       "      <td>1</td>\n",
       "      <td>aerobic_gymnastics</td>\n",
       "      <td>32</td>\n",
       "      <td>False</td>\n",
       "      <td>v_-hyYa8ijq-8_c001.mp4</td>\n",
       "      <td>train</td>\n",
       "      <td>explosive push up</td>\n",
       "      <td>train</td>\n",
       "    </tr>\n",
       "    <tr>\n",
       "      <th>3</th>\n",
       "      <td>05_0001_v_-hyYa8ijq-8_c001.mp4</td>\n",
       "      <td>5</td>\n",
       "      <td>aerobic_gymnastics</td>\n",
       "      <td>89</td>\n",
       "      <td>False</td>\n",
       "      <td>v_-hyYa8ijq-8_c001.mp4</td>\n",
       "      <td>train</td>\n",
       "      <td>support</td>\n",
       "      <td>train</td>\n",
       "    </tr>\n",
       "    <tr>\n",
       "      <th>4</th>\n",
       "      <td>05_0002_v_-hyYa8ijq-8_c001.mp4</td>\n",
       "      <td>5</td>\n",
       "      <td>aerobic_gymnastics</td>\n",
       "      <td>87</td>\n",
       "      <td>False</td>\n",
       "      <td>v_-hyYa8ijq-8_c001.mp4</td>\n",
       "      <td>train</td>\n",
       "      <td>support</td>\n",
       "      <td>train</td>\n",
       "    </tr>\n",
       "    <tr>\n",
       "      <th>...</th>\n",
       "      <td>...</td>\n",
       "      <td>...</td>\n",
       "      <td>...</td>\n",
       "      <td>...</td>\n",
       "      <td>...</td>\n",
       "      <td>...</td>\n",
       "      <td>...</td>\n",
       "      <td>...</td>\n",
       "      <td>...</td>\n",
       "    </tr>\n",
       "    <tr>\n",
       "      <th>41892</th>\n",
       "      <td>mGRum47TLX0_00040.mp4</td>\n",
       "      <td>47</td>\n",
       "      <td>diving</td>\n",
       "      <td>57</td>\n",
       "      <td>True</td>\n",
       "      <td>mGRum47TLX0_00040.mp4</td>\n",
       "      <td>test</td>\n",
       "      <td>Reverse Dive NoTwis TUCK</td>\n",
       "      <td>val</td>\n",
       "    </tr>\n",
       "    <tr>\n",
       "      <th>41893</th>\n",
       "      <td>mGRum47TLX0_00044.mp4</td>\n",
       "      <td>47</td>\n",
       "      <td>diving</td>\n",
       "      <td>113</td>\n",
       "      <td>True</td>\n",
       "      <td>mGRum47TLX0_00044.mp4</td>\n",
       "      <td>test</td>\n",
       "      <td>Reverse Dive NoTwis TUCK</td>\n",
       "      <td>test</td>\n",
       "    </tr>\n",
       "    <tr>\n",
       "      <th>41894</th>\n",
       "      <td>ovWCmIMMkRI_00050.mp4</td>\n",
       "      <td>47</td>\n",
       "      <td>diving</td>\n",
       "      <td>109</td>\n",
       "      <td>True</td>\n",
       "      <td>ovWCmIMMkRI_00050.mp4</td>\n",
       "      <td>test</td>\n",
       "      <td>Reverse Dive NoTwis TUCK</td>\n",
       "      <td>val</td>\n",
       "    </tr>\n",
       "    <tr>\n",
       "      <th>41895</th>\n",
       "      <td>ovWCmIMMkRI_00051.mp4</td>\n",
       "      <td>47</td>\n",
       "      <td>diving</td>\n",
       "      <td>126</td>\n",
       "      <td>True</td>\n",
       "      <td>ovWCmIMMkRI_00051.mp4</td>\n",
       "      <td>test</td>\n",
       "      <td>Reverse Dive NoTwis TUCK</td>\n",
       "      <td>test</td>\n",
       "    </tr>\n",
       "    <tr>\n",
       "      <th>41896</th>\n",
       "      <td>ovWCmIMMkRI_00052.mp4</td>\n",
       "      <td>47</td>\n",
       "      <td>diving</td>\n",
       "      <td>92</td>\n",
       "      <td>True</td>\n",
       "      <td>ovWCmIMMkRI_00052.mp4</td>\n",
       "      <td>test</td>\n",
       "      <td>Reverse Dive NoTwis TUCK</td>\n",
       "      <td>val</td>\n",
       "    </tr>\n",
       "  </tbody>\n",
       "</table>\n",
       "<p>41897 rows × 9 columns</p>\n",
       "</div>"
      ],
      "text/plain": [
       "                           video_name  action_idx            category  frames  \\\n",
       "0      01_0001_v_-hyYa8ijq-8_c001.mp4           1  aerobic_gymnastics      31   \n",
       "1      01_0002_v_-hyYa8ijq-8_c001.mp4           1  aerobic_gymnastics      31   \n",
       "2      01_0003_v_-hyYa8ijq-8_c001.mp4           1  aerobic_gymnastics      32   \n",
       "3      05_0001_v_-hyYa8ijq-8_c001.mp4           5  aerobic_gymnastics      89   \n",
       "4      05_0002_v_-hyYa8ijq-8_c001.mp4           5  aerobic_gymnastics      87   \n",
       "...                               ...         ...                 ...     ...   \n",
       "41892           mGRum47TLX0_00040.mp4          47              diving      57   \n",
       "41893           mGRum47TLX0_00044.mp4          47              diving     113   \n",
       "41894           ovWCmIMMkRI_00050.mp4          47              diving     109   \n",
       "41895           ovWCmIMMkRI_00051.mp4          47              diving     126   \n",
       "41896           ovWCmIMMkRI_00052.mp4          47              diving      92   \n",
       "\n",
       "       resize            source_video  split                    action  \\\n",
       "0       False  v_-hyYa8ijq-8_c001.mp4  train         explosive push up   \n",
       "1        True  v_-hyYa8ijq-8_c001.mp4  train         explosive push up   \n",
       "2       False  v_-hyYa8ijq-8_c001.mp4  train         explosive push up   \n",
       "3       False  v_-hyYa8ijq-8_c001.mp4  train                   support   \n",
       "4       False  v_-hyYa8ijq-8_c001.mp4  train                   support   \n",
       "...       ...                     ...    ...                       ...   \n",
       "41892    True   mGRum47TLX0_00040.mp4   test  Reverse Dive NoTwis TUCK   \n",
       "41893    True   mGRum47TLX0_00044.mp4   test  Reverse Dive NoTwis TUCK   \n",
       "41894    True   ovWCmIMMkRI_00050.mp4   test  Reverse Dive NoTwis TUCK   \n",
       "41895    True   ovWCmIMMkRI_00051.mp4   test  Reverse Dive NoTwis TUCK   \n",
       "41896    True   ovWCmIMMkRI_00052.mp4   test  Reverse Dive NoTwis TUCK   \n",
       "\n",
       "      new_split  \n",
       "0         train  \n",
       "1         train  \n",
       "2         train  \n",
       "3         train  \n",
       "4         train  \n",
       "...         ...  \n",
       "41892       val  \n",
       "41893      test  \n",
       "41894       val  \n",
       "41895      test  \n",
       "41896       val  \n",
       "\n",
       "[41897 rows x 9 columns]"
      ]
     },
     "execution_count": 15,
     "metadata": {},
     "output_type": "execute_result"
    }
   ],
   "source": [
    "df_sports = pd.read_csv(\"../full_metadata_sports.csv\")\n",
    "\n",
    "df_sports"
   ]
  },
  {
   "cell_type": "code",
   "execution_count": 16,
   "metadata": {},
   "outputs": [
    {
     "data": {
      "text/plain": [
       "20416"
      ]
     },
     "execution_count": 16,
     "metadata": {},
     "output_type": "execute_result"
    }
   ],
   "source": [
    "len(df_sports[df_sports['frames'] < 32])"
   ]
  },
  {
   "cell_type": "markdown",
   "metadata": {},
   "source": [
    "# 2. Split video"
   ]
  },
  {
   "cell_type": "code",
   "execution_count": 17,
   "metadata": {},
   "outputs": [],
   "source": [
    "def check_frame(video_path: str) -> int:\n",
    "    cap = cv2.VideoCapture(video_path)\n",
    "\n",
    "    if not cap.isOpened():\n",
    "        print(\"Cannot open camera\")\n",
    "\n",
    "    n_frames = int(cap.get(cv2.CAP_PROP_FRAME_COUNT))\n",
    "\n",
    "    cap.release()\n",
    "    cv2.destroyAllWindows()\n",
    "\n",
    "    return n_frames"
   ]
  },
  {
   "cell_type": "code",
   "execution_count": 18,
   "metadata": {},
   "outputs": [],
   "source": [
    "def move_files_based_on_df(df: pd.DataFrame, datasets: str):\n",
    "\n",
    "    for index, row in tqdm(df.iterrows(), total=df.shape[0]):\n",
    "        file_name = row['video_name']\n",
    "        category = row['category']\n",
    "        destination_subfolder = row['new_split']\n",
    "\n",
    "        n_frames = check_frame(f\"../{datasets}/{category}/{file_name}\")\n",
    "\n",
    "        df.loc[df[df[\"video_name\"] == file_name].index, 'frames'] = n_frames\n",
    "\n",
    "        source_path = os.path.join(f\"../{datasets}/{category}\", file_name)\n",
    "        destination_path = os.path.join(f\"../{datasets}/{category}\", destination_subfolder)\n",
    "\n",
    "        if not os.path.exists(destination_path):\n",
    "            os.makedirs(destination_path)\n",
    "\n",
    "        shutil.move(source_path, destination_path)\n",
    "\n",
    "    return df"
   ]
  },
  {
   "cell_type": "code",
   "execution_count": 19,
   "metadata": {},
   "outputs": [
    {
     "name": "stderr",
     "output_type": "stream",
     "text": [
      "100%|██████████| 41897/41897 [02:49<00:00, 246.70it/s]\n"
     ]
    }
   ],
   "source": [
    "df_sports_2  = move_files_based_on_df(df_sports, datasets=\"datasets_raw\")"
   ]
  },
  {
   "cell_type": "code",
   "execution_count": 22,
   "metadata": {},
   "outputs": [
    {
     "data": {
      "text/plain": [
       "20433"
      ]
     },
     "execution_count": 22,
     "metadata": {},
     "output_type": "execute_result"
    }
   ],
   "source": [
    "len(df_sports_2[df_sports_2['frames'] < 32])"
   ]
  },
  {
   "cell_type": "code",
   "execution_count": 23,
   "metadata": {},
   "outputs": [],
   "source": [
    "df_sports_2.to_csv(\"../full_metadata_sports.csv\",index=False)"
   ]
  },
  {
   "cell_type": "code",
   "execution_count": null,
   "metadata": {},
   "outputs": [],
   "source": []
  }
 ],
 "metadata": {
  "kernelspec": {
   "display_name": "venv",
   "language": "python",
   "name": "python3"
  },
  "language_info": {
   "codemirror_mode": {
    "name": "ipython",
    "version": 3
   },
   "file_extension": ".py",
   "mimetype": "text/x-python",
   "name": "python",
   "nbconvert_exporter": "python",
   "pygments_lexer": "ipython3",
   "version": "3.9.13"
  }
 },
 "nbformat": 4,
 "nbformat_minor": 2
}
